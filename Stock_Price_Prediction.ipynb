{
  "nbformat": 4,
  "nbformat_minor": 0,
  "metadata": {
    "colab": {
      "provenance": [],
      "include_colab_link": true
    },
    "kernelspec": {
      "name": "python3",
      "display_name": "Python 3"
    },
    "language_info": {
      "name": "python"
    }
  },
  "cells": [
    {
      "cell_type": "markdown",
      "metadata": {
        "id": "view-in-github",
        "colab_type": "text"
      },
      "source": [
        "<a href=\"https://colab.research.google.com/github/samarth2411/6Companies30days/blob/main/Stock_Price_Prediction.ipynb\" target=\"_parent\"><img src=\"https://colab.research.google.com/assets/colab-badge.svg\" alt=\"Open In Colab\"/></a>"
      ]
    },
    {
      "cell_type": "code",
      "execution_count": 1,
      "metadata": {
        "id": "ooT_oeMFsh0F"
      },
      "outputs": [],
      "source": [
        "import numpy as np\n",
        "import matplotlib.pyplot as plt\n",
        "import pandas as pd\n",
        "import seaborn as sns "
      ]
    },
    {
      "cell_type": "code",
      "source": [
        "df = pd.read_csv(\"tesla.csv\")\n",
        "df.head()"
      ],
      "metadata": {
        "colab": {
          "base_uri": "https://localhost:8080/",
          "height": 206
        },
        "id": "xwMl4UM4sj8j",
        "outputId": "7cac67ae-47e5-4984-fa4e-8e677e5eec2b"
      },
      "execution_count": 3,
      "outputs": [
        {
          "output_type": "execute_result",
          "data": {
            "text/plain": [
              "       Date       Open   High        Low      Close     Price   AdjClose\n",
              "0  06/29/10  19.000000  25.00  17.540001  23.889999  18766300  23.889999\n",
              "1  06/30/10  25.790001  30.42  23.299999  23.830000  17187100  23.830000\n",
              "2  07/01/10  25.000000  25.92  20.270000  21.959999   8218800  21.959999\n",
              "3  07/02/10  23.000000  23.10  18.709999  19.200001   5139800  19.200001\n",
              "4  07/06/10  20.000000  20.00  15.830000  16.110001   6866900  16.110001"
            ],
            "text/html": [
              "\n",
              "  <div id=\"df-3bb09768-7531-40cb-9549-e5ce01c11179\">\n",
              "    <div class=\"colab-df-container\">\n",
              "      <div>\n",
              "<style scoped>\n",
              "    .dataframe tbody tr th:only-of-type {\n",
              "        vertical-align: middle;\n",
              "    }\n",
              "\n",
              "    .dataframe tbody tr th {\n",
              "        vertical-align: top;\n",
              "    }\n",
              "\n",
              "    .dataframe thead th {\n",
              "        text-align: right;\n",
              "    }\n",
              "</style>\n",
              "<table border=\"1\" class=\"dataframe\">\n",
              "  <thead>\n",
              "    <tr style=\"text-align: right;\">\n",
              "      <th></th>\n",
              "      <th>Date</th>\n",
              "      <th>Open</th>\n",
              "      <th>High</th>\n",
              "      <th>Low</th>\n",
              "      <th>Close</th>\n",
              "      <th>Price</th>\n",
              "      <th>AdjClose</th>\n",
              "    </tr>\n",
              "  </thead>\n",
              "  <tbody>\n",
              "    <tr>\n",
              "      <th>0</th>\n",
              "      <td>06/29/10</td>\n",
              "      <td>19.000000</td>\n",
              "      <td>25.00</td>\n",
              "      <td>17.540001</td>\n",
              "      <td>23.889999</td>\n",
              "      <td>18766300</td>\n",
              "      <td>23.889999</td>\n",
              "    </tr>\n",
              "    <tr>\n",
              "      <th>1</th>\n",
              "      <td>06/30/10</td>\n",
              "      <td>25.790001</td>\n",
              "      <td>30.42</td>\n",
              "      <td>23.299999</td>\n",
              "      <td>23.830000</td>\n",
              "      <td>17187100</td>\n",
              "      <td>23.830000</td>\n",
              "    </tr>\n",
              "    <tr>\n",
              "      <th>2</th>\n",
              "      <td>07/01/10</td>\n",
              "      <td>25.000000</td>\n",
              "      <td>25.92</td>\n",
              "      <td>20.270000</td>\n",
              "      <td>21.959999</td>\n",
              "      <td>8218800</td>\n",
              "      <td>21.959999</td>\n",
              "    </tr>\n",
              "    <tr>\n",
              "      <th>3</th>\n",
              "      <td>07/02/10</td>\n",
              "      <td>23.000000</td>\n",
              "      <td>23.10</td>\n",
              "      <td>18.709999</td>\n",
              "      <td>19.200001</td>\n",
              "      <td>5139800</td>\n",
              "      <td>19.200001</td>\n",
              "    </tr>\n",
              "    <tr>\n",
              "      <th>4</th>\n",
              "      <td>07/06/10</td>\n",
              "      <td>20.000000</td>\n",
              "      <td>20.00</td>\n",
              "      <td>15.830000</td>\n",
              "      <td>16.110001</td>\n",
              "      <td>6866900</td>\n",
              "      <td>16.110001</td>\n",
              "    </tr>\n",
              "  </tbody>\n",
              "</table>\n",
              "</div>\n",
              "      <button class=\"colab-df-convert\" onclick=\"convertToInteractive('df-3bb09768-7531-40cb-9549-e5ce01c11179')\"\n",
              "              title=\"Convert this dataframe to an interactive table.\"\n",
              "              style=\"display:none;\">\n",
              "        \n",
              "  <svg xmlns=\"http://www.w3.org/2000/svg\" height=\"24px\"viewBox=\"0 0 24 24\"\n",
              "       width=\"24px\">\n",
              "    <path d=\"M0 0h24v24H0V0z\" fill=\"none\"/>\n",
              "    <path d=\"M18.56 5.44l.94 2.06.94-2.06 2.06-.94-2.06-.94-.94-2.06-.94 2.06-2.06.94zm-11 1L8.5 8.5l.94-2.06 2.06-.94-2.06-.94L8.5 2.5l-.94 2.06-2.06.94zm10 10l.94 2.06.94-2.06 2.06-.94-2.06-.94-.94-2.06-.94 2.06-2.06.94z\"/><path d=\"M17.41 7.96l-1.37-1.37c-.4-.4-.92-.59-1.43-.59-.52 0-1.04.2-1.43.59L10.3 9.45l-7.72 7.72c-.78.78-.78 2.05 0 2.83L4 21.41c.39.39.9.59 1.41.59.51 0 1.02-.2 1.41-.59l7.78-7.78 2.81-2.81c.8-.78.8-2.07 0-2.86zM5.41 20L4 18.59l7.72-7.72 1.47 1.35L5.41 20z\"/>\n",
              "  </svg>\n",
              "      </button>\n",
              "      \n",
              "  <style>\n",
              "    .colab-df-container {\n",
              "      display:flex;\n",
              "      flex-wrap:wrap;\n",
              "      gap: 12px;\n",
              "    }\n",
              "\n",
              "    .colab-df-convert {\n",
              "      background-color: #E8F0FE;\n",
              "      border: none;\n",
              "      border-radius: 50%;\n",
              "      cursor: pointer;\n",
              "      display: none;\n",
              "      fill: #1967D2;\n",
              "      height: 32px;\n",
              "      padding: 0 0 0 0;\n",
              "      width: 32px;\n",
              "    }\n",
              "\n",
              "    .colab-df-convert:hover {\n",
              "      background-color: #E2EBFA;\n",
              "      box-shadow: 0px 1px 2px rgba(60, 64, 67, 0.3), 0px 1px 3px 1px rgba(60, 64, 67, 0.15);\n",
              "      fill: #174EA6;\n",
              "    }\n",
              "\n",
              "    [theme=dark] .colab-df-convert {\n",
              "      background-color: #3B4455;\n",
              "      fill: #D2E3FC;\n",
              "    }\n",
              "\n",
              "    [theme=dark] .colab-df-convert:hover {\n",
              "      background-color: #434B5C;\n",
              "      box-shadow: 0px 1px 3px 1px rgba(0, 0, 0, 0.15);\n",
              "      filter: drop-shadow(0px 1px 2px rgba(0, 0, 0, 0.3));\n",
              "      fill: #FFFFFF;\n",
              "    }\n",
              "  </style>\n",
              "\n",
              "      <script>\n",
              "        const buttonEl =\n",
              "          document.querySelector('#df-3bb09768-7531-40cb-9549-e5ce01c11179 button.colab-df-convert');\n",
              "        buttonEl.style.display =\n",
              "          google.colab.kernel.accessAllowed ? 'block' : 'none';\n",
              "\n",
              "        async function convertToInteractive(key) {\n",
              "          const element = document.querySelector('#df-3bb09768-7531-40cb-9549-e5ce01c11179');\n",
              "          const dataTable =\n",
              "            await google.colab.kernel.invokeFunction('convertToInteractive',\n",
              "                                                     [key], {});\n",
              "          if (!dataTable) return;\n",
              "\n",
              "          const docLinkHtml = 'Like what you see? Visit the ' +\n",
              "            '<a target=\"_blank\" href=https://colab.research.google.com/notebooks/data_table.ipynb>data table notebook</a>'\n",
              "            + ' to learn more about interactive tables.';\n",
              "          element.innerHTML = '';\n",
              "          dataTable['output_type'] = 'display_data';\n",
              "          await google.colab.output.renderOutput(dataTable, element);\n",
              "          const docLink = document.createElement('div');\n",
              "          docLink.innerHTML = docLinkHtml;\n",
              "          element.appendChild(docLink);\n",
              "        }\n",
              "      </script>\n",
              "    </div>\n",
              "  </div>\n",
              "  "
            ]
          },
          "metadata": {},
          "execution_count": 3
        }
      ]
    },
    {
      "cell_type": "code",
      "source": [
        "df.info()"
      ],
      "metadata": {
        "colab": {
          "base_uri": "https://localhost:8080/"
        },
        "id": "YAO2cEuxsumw",
        "outputId": "20d60835-52b4-49a0-efb4-8c2fe88335d1"
      },
      "execution_count": 4,
      "outputs": [
        {
          "output_type": "stream",
          "name": "stdout",
          "text": [
            "<class 'pandas.core.frame.DataFrame'>\n",
            "RangeIndex: 1692 entries, 0 to 1691\n",
            "Data columns (total 7 columns):\n",
            " #   Column    Non-Null Count  Dtype  \n",
            "---  ------    --------------  -----  \n",
            " 0   Date      1692 non-null   object \n",
            " 1   Open      1692 non-null   float64\n",
            " 2   High      1692 non-null   float64\n",
            " 3   Low       1692 non-null   float64\n",
            " 4   Close     1692 non-null   float64\n",
            " 5   Price     1692 non-null   int64  \n",
            " 6   AdjClose  1692 non-null   float64\n",
            "dtypes: float64(5), int64(1), object(1)\n",
            "memory usage: 92.7+ KB\n"
          ]
        }
      ]
    },
    {
      "cell_type": "code",
      "source": [
        "df.describe()"
      ],
      "metadata": {
        "colab": {
          "base_uri": "https://localhost:8080/",
          "height": 300
        },
        "id": "fWoumuAKsyNU",
        "outputId": "007481c5-f6d9-4a11-87dc-a22a9bd0345e"
      },
      "execution_count": 5,
      "outputs": [
        {
          "output_type": "execute_result",
          "data": {
            "text/plain": [
              "              Open         High          Low        Close         Price  \\\n",
              "count  1692.000000  1692.000000  1692.000000  1692.000000  1.692000e+03   \n",
              "mean    132.441572   134.769698   129.996223   132.428658  4.270741e+06   \n",
              "std      94.309923    95.694914    92.855227    94.313187  4.295971e+06   \n",
              "min      16.139999    16.629999    14.980000    15.800000  1.185000e+05   \n",
              "25%      30.000000    30.650000    29.215000    29.884999  1.194350e+06   \n",
              "50%     156.334999   162.370002   153.150002   158.160004  3.180700e+06   \n",
              "75%     220.557495   224.099999   217.119999   220.022503  5.662100e+06   \n",
              "max     287.670013   291.420013   280.399994   286.040009  3.716390e+07   \n",
              "\n",
              "          AdjClose  \n",
              "count  1692.000000  \n",
              "mean    132.428658  \n",
              "std      94.313187  \n",
              "min      15.800000  \n",
              "25%      29.884999  \n",
              "50%     158.160004  \n",
              "75%     220.022503  \n",
              "max     286.040009  "
            ],
            "text/html": [
              "\n",
              "  <div id=\"df-beb00fde-199a-4c72-a5f0-51057137130e\">\n",
              "    <div class=\"colab-df-container\">\n",
              "      <div>\n",
              "<style scoped>\n",
              "    .dataframe tbody tr th:only-of-type {\n",
              "        vertical-align: middle;\n",
              "    }\n",
              "\n",
              "    .dataframe tbody tr th {\n",
              "        vertical-align: top;\n",
              "    }\n",
              "\n",
              "    .dataframe thead th {\n",
              "        text-align: right;\n",
              "    }\n",
              "</style>\n",
              "<table border=\"1\" class=\"dataframe\">\n",
              "  <thead>\n",
              "    <tr style=\"text-align: right;\">\n",
              "      <th></th>\n",
              "      <th>Open</th>\n",
              "      <th>High</th>\n",
              "      <th>Low</th>\n",
              "      <th>Close</th>\n",
              "      <th>Price</th>\n",
              "      <th>AdjClose</th>\n",
              "    </tr>\n",
              "  </thead>\n",
              "  <tbody>\n",
              "    <tr>\n",
              "      <th>count</th>\n",
              "      <td>1692.000000</td>\n",
              "      <td>1692.000000</td>\n",
              "      <td>1692.000000</td>\n",
              "      <td>1692.000000</td>\n",
              "      <td>1.692000e+03</td>\n",
              "      <td>1692.000000</td>\n",
              "    </tr>\n",
              "    <tr>\n",
              "      <th>mean</th>\n",
              "      <td>132.441572</td>\n",
              "      <td>134.769698</td>\n",
              "      <td>129.996223</td>\n",
              "      <td>132.428658</td>\n",
              "      <td>4.270741e+06</td>\n",
              "      <td>132.428658</td>\n",
              "    </tr>\n",
              "    <tr>\n",
              "      <th>std</th>\n",
              "      <td>94.309923</td>\n",
              "      <td>95.694914</td>\n",
              "      <td>92.855227</td>\n",
              "      <td>94.313187</td>\n",
              "      <td>4.295971e+06</td>\n",
              "      <td>94.313187</td>\n",
              "    </tr>\n",
              "    <tr>\n",
              "      <th>min</th>\n",
              "      <td>16.139999</td>\n",
              "      <td>16.629999</td>\n",
              "      <td>14.980000</td>\n",
              "      <td>15.800000</td>\n",
              "      <td>1.185000e+05</td>\n",
              "      <td>15.800000</td>\n",
              "    </tr>\n",
              "    <tr>\n",
              "      <th>25%</th>\n",
              "      <td>30.000000</td>\n",
              "      <td>30.650000</td>\n",
              "      <td>29.215000</td>\n",
              "      <td>29.884999</td>\n",
              "      <td>1.194350e+06</td>\n",
              "      <td>29.884999</td>\n",
              "    </tr>\n",
              "    <tr>\n",
              "      <th>50%</th>\n",
              "      <td>156.334999</td>\n",
              "      <td>162.370002</td>\n",
              "      <td>153.150002</td>\n",
              "      <td>158.160004</td>\n",
              "      <td>3.180700e+06</td>\n",
              "      <td>158.160004</td>\n",
              "    </tr>\n",
              "    <tr>\n",
              "      <th>75%</th>\n",
              "      <td>220.557495</td>\n",
              "      <td>224.099999</td>\n",
              "      <td>217.119999</td>\n",
              "      <td>220.022503</td>\n",
              "      <td>5.662100e+06</td>\n",
              "      <td>220.022503</td>\n",
              "    </tr>\n",
              "    <tr>\n",
              "      <th>max</th>\n",
              "      <td>287.670013</td>\n",
              "      <td>291.420013</td>\n",
              "      <td>280.399994</td>\n",
              "      <td>286.040009</td>\n",
              "      <td>3.716390e+07</td>\n",
              "      <td>286.040009</td>\n",
              "    </tr>\n",
              "  </tbody>\n",
              "</table>\n",
              "</div>\n",
              "      <button class=\"colab-df-convert\" onclick=\"convertToInteractive('df-beb00fde-199a-4c72-a5f0-51057137130e')\"\n",
              "              title=\"Convert this dataframe to an interactive table.\"\n",
              "              style=\"display:none;\">\n",
              "        \n",
              "  <svg xmlns=\"http://www.w3.org/2000/svg\" height=\"24px\"viewBox=\"0 0 24 24\"\n",
              "       width=\"24px\">\n",
              "    <path d=\"M0 0h24v24H0V0z\" fill=\"none\"/>\n",
              "    <path d=\"M18.56 5.44l.94 2.06.94-2.06 2.06-.94-2.06-.94-.94-2.06-.94 2.06-2.06.94zm-11 1L8.5 8.5l.94-2.06 2.06-.94-2.06-.94L8.5 2.5l-.94 2.06-2.06.94zm10 10l.94 2.06.94-2.06 2.06-.94-2.06-.94-.94-2.06-.94 2.06-2.06.94z\"/><path d=\"M17.41 7.96l-1.37-1.37c-.4-.4-.92-.59-1.43-.59-.52 0-1.04.2-1.43.59L10.3 9.45l-7.72 7.72c-.78.78-.78 2.05 0 2.83L4 21.41c.39.39.9.59 1.41.59.51 0 1.02-.2 1.41-.59l7.78-7.78 2.81-2.81c.8-.78.8-2.07 0-2.86zM5.41 20L4 18.59l7.72-7.72 1.47 1.35L5.41 20z\"/>\n",
              "  </svg>\n",
              "      </button>\n",
              "      \n",
              "  <style>\n",
              "    .colab-df-container {\n",
              "      display:flex;\n",
              "      flex-wrap:wrap;\n",
              "      gap: 12px;\n",
              "    }\n",
              "\n",
              "    .colab-df-convert {\n",
              "      background-color: #E8F0FE;\n",
              "      border: none;\n",
              "      border-radius: 50%;\n",
              "      cursor: pointer;\n",
              "      display: none;\n",
              "      fill: #1967D2;\n",
              "      height: 32px;\n",
              "      padding: 0 0 0 0;\n",
              "      width: 32px;\n",
              "    }\n",
              "\n",
              "    .colab-df-convert:hover {\n",
              "      background-color: #E2EBFA;\n",
              "      box-shadow: 0px 1px 2px rgba(60, 64, 67, 0.3), 0px 1px 3px 1px rgba(60, 64, 67, 0.15);\n",
              "      fill: #174EA6;\n",
              "    }\n",
              "\n",
              "    [theme=dark] .colab-df-convert {\n",
              "      background-color: #3B4455;\n",
              "      fill: #D2E3FC;\n",
              "    }\n",
              "\n",
              "    [theme=dark] .colab-df-convert:hover {\n",
              "      background-color: #434B5C;\n",
              "      box-shadow: 0px 1px 3px 1px rgba(0, 0, 0, 0.15);\n",
              "      filter: drop-shadow(0px 1px 2px rgba(0, 0, 0, 0.3));\n",
              "      fill: #FFFFFF;\n",
              "    }\n",
              "  </style>\n",
              "\n",
              "      <script>\n",
              "        const buttonEl =\n",
              "          document.querySelector('#df-beb00fde-199a-4c72-a5f0-51057137130e button.colab-df-convert');\n",
              "        buttonEl.style.display =\n",
              "          google.colab.kernel.accessAllowed ? 'block' : 'none';\n",
              "\n",
              "        async function convertToInteractive(key) {\n",
              "          const element = document.querySelector('#df-beb00fde-199a-4c72-a5f0-51057137130e');\n",
              "          const dataTable =\n",
              "            await google.colab.kernel.invokeFunction('convertToInteractive',\n",
              "                                                     [key], {});\n",
              "          if (!dataTable) return;\n",
              "\n",
              "          const docLinkHtml = 'Like what you see? Visit the ' +\n",
              "            '<a target=\"_blank\" href=https://colab.research.google.com/notebooks/data_table.ipynb>data table notebook</a>'\n",
              "            + ' to learn more about interactive tables.';\n",
              "          element.innerHTML = '';\n",
              "          dataTable['output_type'] = 'display_data';\n",
              "          await google.colab.output.renderOutput(dataTable, element);\n",
              "          const docLink = document.createElement('div');\n",
              "          docLink.innerHTML = docLinkHtml;\n",
              "          element.appendChild(docLink);\n",
              "        }\n",
              "      </script>\n",
              "    </div>\n",
              "  </div>\n",
              "  "
            ]
          },
          "metadata": {},
          "execution_count": 5
        }
      ]
    },
    {
      "cell_type": "code",
      "source": [
        "X = df.drop(['AdjClose','Open','Close'],axis=1)\n",
        "Y = df['Close']\n",
        "X"
      ],
      "metadata": {
        "colab": {
          "base_uri": "https://localhost:8080/",
          "height": 424
        },
        "id": "zo2cSgK0295T",
        "outputId": "1475c20a-e5f5-4e41-d9f8-81df6cf7f0ab"
      },
      "execution_count": 6,
      "outputs": [
        {
          "output_type": "execute_result",
          "data": {
            "text/plain": [
              "          Date        High         Low     Price\n",
              "0     06/29/10   25.000000   17.540001  18766300\n",
              "1     06/30/10   30.420000   23.299999  17187100\n",
              "2     07/01/10   25.920000   20.270000   8218800\n",
              "3     07/02/10   23.100000   18.709999   5139800\n",
              "4     07/06/10   20.000000   15.830000   6866900\n",
              "...        ...         ...         ...       ...\n",
              "1687  03/13/17  246.850006  242.779999   3010700\n",
              "1688  03/14/17  258.119995  246.020004   7575500\n",
              "1689  03/15/17  261.000000  254.270004   4816600\n",
              "1690  03/16/17  265.750000  259.059998   7100400\n",
              "1691  03/17/17  265.329987  261.200012   6475900\n",
              "\n",
              "[1692 rows x 4 columns]"
            ],
            "text/html": [
              "\n",
              "  <div id=\"df-4caa00a6-5185-4ef1-b90e-20c284ca72de\">\n",
              "    <div class=\"colab-df-container\">\n",
              "      <div>\n",
              "<style scoped>\n",
              "    .dataframe tbody tr th:only-of-type {\n",
              "        vertical-align: middle;\n",
              "    }\n",
              "\n",
              "    .dataframe tbody tr th {\n",
              "        vertical-align: top;\n",
              "    }\n",
              "\n",
              "    .dataframe thead th {\n",
              "        text-align: right;\n",
              "    }\n",
              "</style>\n",
              "<table border=\"1\" class=\"dataframe\">\n",
              "  <thead>\n",
              "    <tr style=\"text-align: right;\">\n",
              "      <th></th>\n",
              "      <th>Date</th>\n",
              "      <th>High</th>\n",
              "      <th>Low</th>\n",
              "      <th>Price</th>\n",
              "    </tr>\n",
              "  </thead>\n",
              "  <tbody>\n",
              "    <tr>\n",
              "      <th>0</th>\n",
              "      <td>06/29/10</td>\n",
              "      <td>25.000000</td>\n",
              "      <td>17.540001</td>\n",
              "      <td>18766300</td>\n",
              "    </tr>\n",
              "    <tr>\n",
              "      <th>1</th>\n",
              "      <td>06/30/10</td>\n",
              "      <td>30.420000</td>\n",
              "      <td>23.299999</td>\n",
              "      <td>17187100</td>\n",
              "    </tr>\n",
              "    <tr>\n",
              "      <th>2</th>\n",
              "      <td>07/01/10</td>\n",
              "      <td>25.920000</td>\n",
              "      <td>20.270000</td>\n",
              "      <td>8218800</td>\n",
              "    </tr>\n",
              "    <tr>\n",
              "      <th>3</th>\n",
              "      <td>07/02/10</td>\n",
              "      <td>23.100000</td>\n",
              "      <td>18.709999</td>\n",
              "      <td>5139800</td>\n",
              "    </tr>\n",
              "    <tr>\n",
              "      <th>4</th>\n",
              "      <td>07/06/10</td>\n",
              "      <td>20.000000</td>\n",
              "      <td>15.830000</td>\n",
              "      <td>6866900</td>\n",
              "    </tr>\n",
              "    <tr>\n",
              "      <th>...</th>\n",
              "      <td>...</td>\n",
              "      <td>...</td>\n",
              "      <td>...</td>\n",
              "      <td>...</td>\n",
              "    </tr>\n",
              "    <tr>\n",
              "      <th>1687</th>\n",
              "      <td>03/13/17</td>\n",
              "      <td>246.850006</td>\n",
              "      <td>242.779999</td>\n",
              "      <td>3010700</td>\n",
              "    </tr>\n",
              "    <tr>\n",
              "      <th>1688</th>\n",
              "      <td>03/14/17</td>\n",
              "      <td>258.119995</td>\n",
              "      <td>246.020004</td>\n",
              "      <td>7575500</td>\n",
              "    </tr>\n",
              "    <tr>\n",
              "      <th>1689</th>\n",
              "      <td>03/15/17</td>\n",
              "      <td>261.000000</td>\n",
              "      <td>254.270004</td>\n",
              "      <td>4816600</td>\n",
              "    </tr>\n",
              "    <tr>\n",
              "      <th>1690</th>\n",
              "      <td>03/16/17</td>\n",
              "      <td>265.750000</td>\n",
              "      <td>259.059998</td>\n",
              "      <td>7100400</td>\n",
              "    </tr>\n",
              "    <tr>\n",
              "      <th>1691</th>\n",
              "      <td>03/17/17</td>\n",
              "      <td>265.329987</td>\n",
              "      <td>261.200012</td>\n",
              "      <td>6475900</td>\n",
              "    </tr>\n",
              "  </tbody>\n",
              "</table>\n",
              "<p>1692 rows × 4 columns</p>\n",
              "</div>\n",
              "      <button class=\"colab-df-convert\" onclick=\"convertToInteractive('df-4caa00a6-5185-4ef1-b90e-20c284ca72de')\"\n",
              "              title=\"Convert this dataframe to an interactive table.\"\n",
              "              style=\"display:none;\">\n",
              "        \n",
              "  <svg xmlns=\"http://www.w3.org/2000/svg\" height=\"24px\"viewBox=\"0 0 24 24\"\n",
              "       width=\"24px\">\n",
              "    <path d=\"M0 0h24v24H0V0z\" fill=\"none\"/>\n",
              "    <path d=\"M18.56 5.44l.94 2.06.94-2.06 2.06-.94-2.06-.94-.94-2.06-.94 2.06-2.06.94zm-11 1L8.5 8.5l.94-2.06 2.06-.94-2.06-.94L8.5 2.5l-.94 2.06-2.06.94zm10 10l.94 2.06.94-2.06 2.06-.94-2.06-.94-.94-2.06-.94 2.06-2.06.94z\"/><path d=\"M17.41 7.96l-1.37-1.37c-.4-.4-.92-.59-1.43-.59-.52 0-1.04.2-1.43.59L10.3 9.45l-7.72 7.72c-.78.78-.78 2.05 0 2.83L4 21.41c.39.39.9.59 1.41.59.51 0 1.02-.2 1.41-.59l7.78-7.78 2.81-2.81c.8-.78.8-2.07 0-2.86zM5.41 20L4 18.59l7.72-7.72 1.47 1.35L5.41 20z\"/>\n",
              "  </svg>\n",
              "      </button>\n",
              "      \n",
              "  <style>\n",
              "    .colab-df-container {\n",
              "      display:flex;\n",
              "      flex-wrap:wrap;\n",
              "      gap: 12px;\n",
              "    }\n",
              "\n",
              "    .colab-df-convert {\n",
              "      background-color: #E8F0FE;\n",
              "      border: none;\n",
              "      border-radius: 50%;\n",
              "      cursor: pointer;\n",
              "      display: none;\n",
              "      fill: #1967D2;\n",
              "      height: 32px;\n",
              "      padding: 0 0 0 0;\n",
              "      width: 32px;\n",
              "    }\n",
              "\n",
              "    .colab-df-convert:hover {\n",
              "      background-color: #E2EBFA;\n",
              "      box-shadow: 0px 1px 2px rgba(60, 64, 67, 0.3), 0px 1px 3px 1px rgba(60, 64, 67, 0.15);\n",
              "      fill: #174EA6;\n",
              "    }\n",
              "\n",
              "    [theme=dark] .colab-df-convert {\n",
              "      background-color: #3B4455;\n",
              "      fill: #D2E3FC;\n",
              "    }\n",
              "\n",
              "    [theme=dark] .colab-df-convert:hover {\n",
              "      background-color: #434B5C;\n",
              "      box-shadow: 0px 1px 3px 1px rgba(0, 0, 0, 0.15);\n",
              "      filter: drop-shadow(0px 1px 2px rgba(0, 0, 0, 0.3));\n",
              "      fill: #FFFFFF;\n",
              "    }\n",
              "  </style>\n",
              "\n",
              "      <script>\n",
              "        const buttonEl =\n",
              "          document.querySelector('#df-4caa00a6-5185-4ef1-b90e-20c284ca72de button.colab-df-convert');\n",
              "        buttonEl.style.display =\n",
              "          google.colab.kernel.accessAllowed ? 'block' : 'none';\n",
              "\n",
              "        async function convertToInteractive(key) {\n",
              "          const element = document.querySelector('#df-4caa00a6-5185-4ef1-b90e-20c284ca72de');\n",
              "          const dataTable =\n",
              "            await google.colab.kernel.invokeFunction('convertToInteractive',\n",
              "                                                     [key], {});\n",
              "          if (!dataTable) return;\n",
              "\n",
              "          const docLinkHtml = 'Like what you see? Visit the ' +\n",
              "            '<a target=\"_blank\" href=https://colab.research.google.com/notebooks/data_table.ipynb>data table notebook</a>'\n",
              "            + ' to learn more about interactive tables.';\n",
              "          element.innerHTML = '';\n",
              "          dataTable['output_type'] = 'display_data';\n",
              "          await google.colab.output.renderOutput(dataTable, element);\n",
              "          const docLink = document.createElement('div');\n",
              "          docLink.innerHTML = docLinkHtml;\n",
              "          element.appendChild(docLink);\n",
              "        }\n",
              "      </script>\n",
              "    </div>\n",
              "  </div>\n",
              "  "
            ]
          },
          "metadata": {},
          "execution_count": 6
        }
      ]
    },
    {
      "cell_type": "code",
      "source": [
        "df[\"High\"].plot.hist()"
      ],
      "metadata": {
        "colab": {
          "base_uri": "https://localhost:8080/",
          "height": 282
        },
        "id": "cNTNcPjAs0Ur",
        "outputId": "b8fb4b87-875c-4274-a2ef-45f589ad3840"
      },
      "execution_count": 7,
      "outputs": [
        {
          "output_type": "execute_result",
          "data": {
            "text/plain": [
              "<matplotlib.axes._subplots.AxesSubplot at 0x7f096f919a30>"
            ]
          },
          "metadata": {},
          "execution_count": 7
        },
        {
          "output_type": "display_data",
          "data": {
            "text/plain": [
              "<Figure size 432x288 with 1 Axes>"
            ],
            "image/png": "[encoded data removed]"
          },
          "metadata": {
            "needs_background": "light"
          }
        }
      ]
    },
    {
      "cell_type": "code",
      "source": [
        "df[\"Open\"].plot.hist()"
      ],
      "metadata": {
        "colab": {
          "base_uri": "https://localhost:8080/",
          "height": 282
        },
        "id": "E0iiuydes2jK",
        "outputId": "2ce5f0f0-7e0f-4e4f-e440-c59804239169"
      },
      "execution_count": 8,
      "outputs": [
        {
          "output_type": "execute_result",
          "data": {
            "text/plain": [
              "<matplotlib.axes._subplots.AxesSubplot at 0x7f097dbbb8b0>"
            ]
          },
          "metadata": {},
          "execution_count": 8
        },
        {
          "output_type": "display_data",
          "data": {
            "text/plain": [
              "<Figure size 432x288 with 1 Axes>"
            ],
            "image/png": "[encoded data removed]"
          },
          "metadata": {
            "needs_background": "light"
          }
        }
      ]
    },
    {
      "cell_type": "code",
      "source": [
        "sns.countplot(x = 'Open', data = df)"
      ],
      "metadata": {
        "colab": {
          "base_uri": "https://localhost:8080/",
          "height": 296
        },
        "id": "-Yh5b0aks4pN",
        "outputId": "579184a9-d2c6-44d0-aad3-c9ab0d46235e"
      },
      "execution_count": 9,
      "outputs": [
        {
          "output_type": "execute_result",
          "data": {
            "text/plain": [
              "<matplotlib.axes._subplots.AxesSubplot at 0x7f096efb3610>"
            ]
          },
          "metadata": {},
          "execution_count": 9
        },
        {
          "output_type": "display_data",
          "data": {
            "text/plain": [
              "<Figure size 432x288 with 1 Axes>"
            ],
            "image/png": "[encoded data removed]"
          },
          "metadata": {
            "needs_background": "light"
          }
        }
      ]
    },
    {
      "cell_type": "code",
      "source": [
        "sns.countplot(x = 'High', data = df)"
      ],
      "metadata": {
        "colab": {
          "base_uri": "https://localhost:8080/",
          "height": 296
        },
        "id": "rX207wNCs8zP",
        "outputId": "3a98a929-a894-4e1d-8137-27a548e896e5"
      },
      "execution_count": 10,
      "outputs": [
        {
          "output_type": "execute_result",
          "data": {
            "text/plain": [
              "<matplotlib.axes._subplots.AxesSubplot at 0x7f096d46aa90>"
            ]
          },
          "metadata": {},
          "execution_count": 10
        },
        {
          "output_type": "display_data",
          "data": {
            "text/plain": [
              "<Figure size 432x288 with 1 Axes>"
            ],
            "image/png": "[encoded data removed]"
          },
          "metadata": {
            "needs_background": "light"
          }
        }
      ]
    },
    {
      "cell_type": "code",
      "source": [
        "sns.countplot(x = 'Date', data = df)"
      ],
      "metadata": {
        "colab": {
          "base_uri": "https://localhost:8080/",
          "height": 296
        },
        "id": "YMNYI8CEtCj_",
        "outputId": "22cac907-1ec0-404a-83fb-ac7bda51a9ff"
      },
      "execution_count": 11,
      "outputs": [
        {
          "output_type": "execute_result",
          "data": {
            "text/plain": [
              "<matplotlib.axes._subplots.AxesSubplot at 0x7f096b7677f0>"
            ]
          },
          "metadata": {},
          "execution_count": 11
        },
        {
          "output_type": "display_data",
          "data": {
            "text/plain": [
              "<Figure size 432x288 with 1 Axes>"
            ],
            "image/png": "[encoded data removed]"
          },
          "metadata": {
            "needs_background": "light"
          }
        }
      ]
    },
    {
      "cell_type": "code",
      "source": [
        "sns.heatmap(df.isnull(), yticklabels = False, cbar = False)"
      ],
      "metadata": {
        "colab": {
          "base_uri": "https://localhost:8080/",
          "height": 282
        },
        "id": "m73XaZLatFU6",
        "outputId": "952a4745-40bd-4595-bae3-dcf8846a445f"
      },
      "execution_count": 12,
      "outputs": [
        {
          "output_type": "execute_result",
          "data": {
            "text/plain": [
              "<matplotlib.axes._subplots.AxesSubplot at 0x7f096cfe0b80>"
            ]
          },
          "metadata": {},
          "execution_count": 12
        },
        {
          "output_type": "display_data",
          "data": {
            "text/plain": [
              "<Figure size 432x288 with 1 Axes>"
            ],
            "image/png": "[encoded data removed]"
          },
          "metadata": {
            "needs_background": "light"
          }
        }
      ]
    },
    {
      "cell_type": "code",
      "source": [
        "sns.heatmap(df.isnull(), yticklabels = True, cbar = False)"
      ],
      "metadata": {
        "colab": {
          "base_uri": "https://localhost:8080/",
          "height": 287
        },
        "id": "6JK5SsVRtN3Q",
        "outputId": "319b7a2e-529e-4b92-f5e1-0ccea9fa4910"
      },
      "execution_count": 13,
      "outputs": [
        {
          "output_type": "execute_result",
          "data": {
            "text/plain": [
              "<matplotlib.axes._subplots.AxesSubplot at 0x7f096d4daa00>"
            ]
          },
          "metadata": {},
          "execution_count": 13
        },
        {
          "output_type": "display_data",
          "data": {
            "text/plain": [
              "<Figure size 432x288 with 1 Axes>"
            ],
            "image/png": "[encoded data removed]"
          },
          "metadata": {
            "needs_background": "light"
          }
        }
      ]
    },
    {
      "cell_type": "code",
      "source": [
        "sns.heatmap(df.isnull(), yticklabels = True, cbar = True)"
      ],
      "metadata": {
        "colab": {
          "base_uri": "https://localhost:8080/",
          "height": 287
        },
        "id": "jZw4f7lXtcr3",
        "outputId": "1a6d6164-6cc6-4cdf-8b68-59f19d0fb04a"
      },
      "execution_count": 14,
      "outputs": [
        {
          "output_type": "execute_result",
          "data": {
            "text/plain": [
              "<matplotlib.axes._subplots.AxesSubplot at 0x7f09664ffd90>"
            ]
          },
          "metadata": {},
          "execution_count": 14
        },
        {
          "output_type": "display_data",
          "data": {
            "text/plain": [
              "<Figure size 432x288 with 2 Axes>"
            ],
            "image/png": "[encoded data removed]"
          },
          "metadata": {
            "needs_background": "light"
          }
        }
      ]
    },
    {
      "cell_type": "code",
      "source": [
        "sns.heatmap(df.isnull(), yticklabels = False, cbar = True)"
      ],
      "metadata": {
        "colab": {
          "base_uri": "https://localhost:8080/",
          "height": 286
        },
        "id": "JCJeb6potfaX",
        "outputId": "f1db6f7e-8945-4c22-e6ad-f54cbf1ddb5b"
      },
      "execution_count": 15,
      "outputs": [
        {
          "output_type": "execute_result",
          "data": {
            "text/plain": [
              "<matplotlib.axes._subplots.AxesSubplot at 0x7f09654290a0>"
            ]
          },
          "metadata": {},
          "execution_count": 15
        },
        {
          "output_type": "display_data",
          "data": {
            "text/plain": [
              "<Figure size 432x288 with 2 Axes>"
            ],
            "image/png": "[encoded data removed]"
          },
          "metadata": {
            "needs_background": "light"
          }
        }
      ]
    },
    {
      "cell_type": "code",
      "source": [
        "df = df.drop_duplicates()\n",
        "print(df)"
      ],
      "metadata": {
        "colab": {
          "base_uri": "https://localhost:8080/"
        },
        "id": "-NSi5S6htkUR",
        "outputId": "e3ef6736-b4f3-4ed9-b4c9-e949bec8a626"
      },
      "execution_count": 16,
      "outputs": [
        {
          "output_type": "stream",
          "name": "stdout",
          "text": [
            "          Date        Open        High         Low       Close     Price  \\\n",
            "0     06/29/10   19.000000   25.000000   17.540001   23.889999  18766300   \n",
            "1     06/30/10   25.790001   30.420000   23.299999   23.830000  17187100   \n",
            "2     07/01/10   25.000000   25.920000   20.270000   21.959999   8218800   \n",
            "3     07/02/10   23.000000   23.100000   18.709999   19.200001   5139800   \n",
            "4     07/06/10   20.000000   20.000000   15.830000   16.110001   6866900   \n",
            "...        ...         ...         ...         ...         ...       ...   \n",
            "1687  03/13/17  244.820007  246.850006  242.779999  246.169998   3010700   \n",
            "1688  03/14/17  246.110001  258.119995  246.020004  258.000000   7575500   \n",
            "1689  03/15/17  257.000000  261.000000  254.270004  255.729996   4816600   \n",
            "1690  03/16/17  262.399994  265.750000  259.059998  262.049988   7100400   \n",
            "1691  03/17/17  264.000000  265.329987  261.200012  261.500000   6475900   \n",
            "\n",
            "        AdjClose  \n",
            "0      23.889999  \n",
            "1      23.830000  \n",
            "2      21.959999  \n",
            "3      19.200001  \n",
            "4      16.110001  \n",
            "...          ...  \n",
            "1687  246.169998  \n",
            "1688  258.000000  \n",
            "1689  255.729996  \n",
            "1690  262.049988  \n",
            "1691  261.500000  \n",
            "\n",
            "[1692 rows x 7 columns]\n"
          ]
        }
      ]
    },
    {
      "cell_type": "code",
      "source": [
        "df.isnull()"
      ],
      "metadata": {
        "colab": {
          "base_uri": "https://localhost:8080/",
          "height": 424
        },
        "id": "HsjOCssgtm4A",
        "outputId": "e233e198-531b-4173-c268-1d19010431d7"
      },
      "execution_count": 17,
      "outputs": [
        {
          "output_type": "execute_result",
          "data": {
            "text/plain": [
              "       Date   Open   High    Low  Close  Price  AdjClose\n",
              "0     False  False  False  False  False  False     False\n",
              "1     False  False  False  False  False  False     False\n",
              "2     False  False  False  False  False  False     False\n",
              "3     False  False  False  False  False  False     False\n",
              "4     False  False  False  False  False  False     False\n",
              "...     ...    ...    ...    ...    ...    ...       ...\n",
              "1687  False  False  False  False  False  False     False\n",
              "1688  False  False  False  False  False  False     False\n",
              "1689  False  False  False  False  False  False     False\n",
              "1690  False  False  False  False  False  False     False\n",
              "1691  False  False  False  False  False  False     False\n",
              "\n",
              "[1692 rows x 7 columns]"
            ],
            "text/html": [
              "\n",
              "  <div id=\"df-86d4da93-69e9-4839-b10c-1cf03320042b\">\n",
              "    <div class=\"colab-df-container\">\n",
              "      <div>\n",
              "<style scoped>\n",
              "    .dataframe tbody tr th:only-of-type {\n",
              "        vertical-align: middle;\n",
              "    }\n",
              "\n",
              "    .dataframe tbody tr th {\n",
              "        vertical-align: top;\n",
              "    }\n",
              "\n",
              "    .dataframe thead th {\n",
              "        text-align: right;\n",
              "    }\n",
              "</style>\n",
              "<table border=\"1\" class=\"dataframe\">\n",
              "  <thead>\n",
              "    <tr style=\"text-align: right;\">\n",
              "      <th></th>\n",
              "      <th>Date</th>\n",
              "      <th>Open</th>\n",
              "      <th>High</th>\n",
              "      <th>Low</th>\n",
              "      <th>Close</th>\n",
              "      <th>Price</th>\n",
              "      <th>AdjClose</th>\n",
              "    </tr>\n",
              "  </thead>\n",
              "  <tbody>\n",
              "    <tr>\n",
              "      <th>0</th>\n",
              "      <td>False</td>\n",
              "      <td>False</td>\n",
              "      <td>False</td>\n",
              "      <td>False</td>\n",
              "      <td>False</td>\n",
              "      <td>False</td>\n",
              "      <td>False</td>\n",
              "    </tr>\n",
              "    <tr>\n",
              "      <th>1</th>\n",
              "      <td>False</td>\n",
              "      <td>False</td>\n",
              "      <td>False</td>\n",
              "      <td>False</td>\n",
              "      <td>False</td>\n",
              "      <td>False</td>\n",
              "      <td>False</td>\n",
              "    </tr>\n",
              "    <tr>\n",
              "      <th>2</th>\n",
              "      <td>False</td>\n",
              "      <td>False</td>\n",
              "      <td>False</td>\n",
              "      <td>False</td>\n",
              "      <td>False</td>\n",
              "      <td>False</td>\n",
              "      <td>False</td>\n",
              "    </tr>\n",
              "    <tr>\n",
              "      <th>3</th>\n",
              "      <td>False</td>\n",
              "      <td>False</td>\n",
              "      <td>False</td>\n",
              "      <td>False</td>\n",
              "      <td>False</td>\n",
              "      <td>False</td>\n",
              "      <td>False</td>\n",
              "    </tr>\n",
              "    <tr>\n",
              "      <th>4</th>\n",
              "      <td>False</td>\n",
              "      <td>False</td>\n",
              "      <td>False</td>\n",
              "      <td>False</td>\n",
              "      <td>False</td>\n",
              "      <td>False</td>\n",
              "      <td>False</td>\n",
              "    </tr>\n",
              "    <tr>\n",
              "      <th>...</th>\n",
              "      <td>...</td>\n",
              "      <td>...</td>\n",
              "      <td>...</td>\n",
              "      <td>...</td>\n",
              "      <td>...</td>\n",
              "      <td>...</td>\n",
              "      <td>...</td>\n",
              "    </tr>\n",
              "    <tr>\n",
              "      <th>1687</th>\n",
              "      <td>False</td>\n",
              "      <td>False</td>\n",
              "      <td>False</td>\n",
              "      <td>False</td>\n",
              "      <td>False</td>\n",
              "      <td>False</td>\n",
              "      <td>False</td>\n",
              "    </tr>\n",
              "    <tr>\n",
              "      <th>1688</th>\n",
              "      <td>False</td>\n",
              "      <td>False</td>\n",
              "      <td>False</td>\n",
              "      <td>False</td>\n",
              "      <td>False</td>\n",
              "      <td>False</td>\n",
              "      <td>False</td>\n",
              "    </tr>\n",
              "    <tr>\n",
              "      <th>1689</th>\n",
              "      <td>False</td>\n",
              "      <td>False</td>\n",
              "      <td>False</td>\n",
              "      <td>False</td>\n",
              "      <td>False</td>\n",
              "      <td>False</td>\n",
              "      <td>False</td>\n",
              "    </tr>\n",
              "    <tr>\n",
              "      <th>1690</th>\n",
              "      <td>False</td>\n",
              "      <td>False</td>\n",
              "      <td>False</td>\n",
              "      <td>False</td>\n",
              "      <td>False</td>\n",
              "      <td>False</td>\n",
              "      <td>False</td>\n",
              "    </tr>\n",
              "    <tr>\n",
              "      <th>1691</th>\n",
              "      <td>False</td>\n",
              "      <td>False</td>\n",
              "      <td>False</td>\n",
              "      <td>False</td>\n",
              "      <td>False</td>\n",
              "      <td>False</td>\n",
              "      <td>False</td>\n",
              "    </tr>\n",
              "  </tbody>\n",
              "</table>\n",
              "<p>1692 rows × 7 columns</p>\n",
              "</div>\n",
              "      <button class=\"colab-df-convert\" onclick=\"convertToInteractive('df-86d4da93-69e9-4839-b10c-1cf03320042b')\"\n",
              "              title=\"Convert this dataframe to an interactive table.\"\n",
              "              style=\"display:none;\">\n",
              "        \n",
              "  <svg xmlns=\"http://www.w3.org/2000/svg\" height=\"24px\"viewBox=\"0 0 24 24\"\n",
              "       width=\"24px\">\n",
              "    <path d=\"M0 0h24v24H0V0z\" fill=\"none\"/>\n",
              "    <path d=\"M18.56 5.44l.94 2.06.94-2.06 2.06-.94-2.06-.94-.94-2.06-.94 2.06-2.06.94zm-11 1L8.5 8.5l.94-2.06 2.06-.94-2.06-.94L8.5 2.5l-.94 2.06-2.06.94zm10 10l.94 2.06.94-2.06 2.06-.94-2.06-.94-.94-2.06-.94 2.06-2.06.94z\"/><path d=\"M17.41 7.96l-1.37-1.37c-.4-.4-.92-.59-1.43-.59-.52 0-1.04.2-1.43.59L10.3 9.45l-7.72 7.72c-.78.78-.78 2.05 0 2.83L4 21.41c.39.39.9.59 1.41.59.51 0 1.02-.2 1.41-.59l7.78-7.78 2.81-2.81c.8-.78.8-2.07 0-2.86zM5.41 20L4 18.59l7.72-7.72 1.47 1.35L5.41 20z\"/>\n",
              "  </svg>\n",
              "      </button>\n",
              "      \n",
              "  <style>\n",
              "    .colab-df-container {\n",
              "      display:flex;\n",
              "      flex-wrap:wrap;\n",
              "      gap: 12px;\n",
              "    }\n",
              "\n",
              "    .colab-df-convert {\n",
              "      background-color: #E8F0FE;\n",
              "      border: none;\n",
              "      border-radius: 50%;\n",
              "      cursor: pointer;\n",
              "      display: none;\n",
              "      fill: #1967D2;\n",
              "      height: 32px;\n",
              "      padding: 0 0 0 0;\n",
              "      width: 32px;\n",
              "    }\n",
              "\n",
              "    .colab-df-convert:hover {\n",
              "      background-color: #E2EBFA;\n",
              "      box-shadow: 0px 1px 2px rgba(60, 64, 67, 0.3), 0px 1px 3px 1px rgba(60, 64, 67, 0.15);\n",
              "      fill: #174EA6;\n",
              "    }\n",
              "\n",
              "    [theme=dark] .colab-df-convert {\n",
              "      background-color: #3B4455;\n",
              "      fill: #D2E3FC;\n",
              "    }\n",
              "\n",
              "    [theme=dark] .colab-df-convert:hover {\n",
              "      background-color: #434B5C;\n",
              "      box-shadow: 0px 1px 3px 1px rgba(0, 0, 0, 0.15);\n",
              "      filter: drop-shadow(0px 1px 2px rgba(0, 0, 0, 0.3));\n",
              "      fill: #FFFFFF;\n",
              "    }\n",
              "  </style>\n",
              "\n",
              "      <script>\n",
              "        const buttonEl =\n",
              "          document.querySelector('#df-86d4da93-69e9-4839-b10c-1cf03320042b button.colab-df-convert');\n",
              "        buttonEl.style.display =\n",
              "          google.colab.kernel.accessAllowed ? 'block' : 'none';\n",
              "\n",
              "        async function convertToInteractive(key) {\n",
              "          const element = document.querySelector('#df-86d4da93-69e9-4839-b10c-1cf03320042b');\n",
              "          const dataTable =\n",
              "            await google.colab.kernel.invokeFunction('convertToInteractive',\n",
              "                                                     [key], {});\n",
              "          if (!dataTable) return;\n",
              "\n",
              "          const docLinkHtml = 'Like what you see? Visit the ' +\n",
              "            '<a target=\"_blank\" href=https://colab.research.google.com/notebooks/data_table.ipynb>data table notebook</a>'\n",
              "            + ' to learn more about interactive tables.';\n",
              "          element.innerHTML = '';\n",
              "          dataTable['output_type'] = 'display_data';\n",
              "          await google.colab.output.renderOutput(dataTable, element);\n",
              "          const docLink = document.createElement('div');\n",
              "          docLink.innerHTML = docLinkHtml;\n",
              "          element.appendChild(docLink);\n",
              "        }\n",
              "      </script>\n",
              "    </div>\n",
              "  </div>\n",
              "  "
            ]
          },
          "metadata": {},
          "execution_count": 17
        }
      ]
    },
    {
      "cell_type": "code",
      "source": [
        "df.isnull().sum()"
      ],
      "metadata": {
        "colab": {
          "base_uri": "https://localhost:8080/"
        },
        "id": "UVFcsZuytuLX",
        "outputId": "15e5c3e9-7374-4ddb-daff-4289278007ac"
      },
      "execution_count": 18,
      "outputs": [
        {
          "output_type": "execute_result",
          "data": {
            "text/plain": [
              "Date        0\n",
              "Open        0\n",
              "High        0\n",
              "Low         0\n",
              "Close       0\n",
              "Price       0\n",
              "AdjClose    0\n",
              "dtype: int64"
            ]
          },
          "metadata": {},
          "execution_count": 18
        }
      ]
    },
    {
      "cell_type": "code",
      "source": [
        "sns.set_style(\"whitegrid\")\n",
        "plt.figure(figsize=(10, 30))\n",
        "sns.distplot(df.Price)\n",
        "plt.show()"
      ],
      "metadata": {
        "colab": {
          "base_uri": "https://localhost:8080/",
          "height": 1000
        },
        "id": "ftaxHyU9twc6",
        "outputId": "3d175bb5-68b6-4fca-9e90-23d89c7e1e8c"
      },
      "execution_count": 19,
      "outputs": [
        {
          "output_type": "stream",
          "name": "stderr",
          "text": [
            "/usr/local/lib/python3.8/dist-packages/seaborn/distributions.py:2619: FutureWarning: `distplot` is a deprecated function and will be removed in a future version. Please adapt your code to use either `displot` (a figure-level function with similar flexibility) or `histplot` (an axes-level function for histograms).\n",
            "  warnings.warn(msg, FutureWarning)\n"
          ]
        },
        {
          "output_type": "display_data",
          "data": {
            "text/plain": [
              "<Figure size 720x2160 with 1 Axes>"
            ],
            "image/png": "[encoded data removed]"
          },
          "metadata": {}
        }
      ]
    },
    {
      "cell_type": "code",
      "source": [
        "print(df.corr())"
      ],
      "metadata": {
        "colab": {
          "base_uri": "https://localhost:8080/"
        },
        "id": "tintAY49t1vF",
        "outputId": "16c12e9b-0a6a-49c0-c51a-ea2520d9c4fe"
      },
      "execution_count": 20,
      "outputs": [
        {
          "output_type": "stream",
          "name": "stdout",
          "text": [
            "              Open      High       Low     Close     Price  AdjClose\n",
            "Open      1.000000  0.999623  0.999605  0.999233  0.407515  0.999233\n",
            "High      0.999623  1.000000  0.999521  0.999691  0.416466  0.999691\n",
            "Low       0.999605  0.999521  1.000000  0.999656  0.397615  0.999656\n",
            "Close     0.999233  0.999691  0.999656  1.000000  0.406907  1.000000\n",
            "Price     0.407515  0.416466  0.397615  0.406907  1.000000  0.406907\n",
            "AdjClose  0.999233  0.999691  0.999656  1.000000  0.406907  1.000000\n"
          ]
        }
      ]
    },
    {
      "cell_type": "code",
      "source": [
        "df.dtypes\n",
        "for x in df:\n",
        "    if(df[x].dtypes == \"int64\"):\n",
        "        df[x] = df[x].astype(float)\n",
        "        print(df[x].dtypes)"
      ],
      "metadata": {
        "colab": {
          "base_uri": "https://localhost:8080/"
        },
        "id": "_iUnhqTmuM_e",
        "outputId": "cd3bdce3-665c-4ed4-c105-43f34f14dd93"
      },
      "execution_count": 21,
      "outputs": [
        {
          "output_type": "stream",
          "name": "stdout",
          "text": [
            "float64\n"
          ]
        }
      ]
    },
    {
      "cell_type": "code",
      "source": [
        "plt.figure(figsize=(20, 10))\n",
        "correlations = df.corr()\n",
        "sns.heatmap(correlations, cmap=\"coolwarm\", annot=True)\n",
        "plt.show()"
      ],
      "metadata": {
        "colab": {
          "base_uri": "https://localhost:8080/",
          "height": 596
        },
        "id": "1p_TwjJcuR0B",
        "outputId": "2b706fd7-2410-48d7-ac4d-8c6e10e4f57b"
      },
      "execution_count": 22,
      "outputs": [
        {
          "output_type": "display_data",
          "data": {
            "text/plain": [
              "<Figure size 1440x720 with 2 Axes>"
            ],
            "image/png": "[encoded data removed]"
          },
          "metadata": {}
        }
      ]
    },
    {
      "cell_type": "code",
      "source": [
        "df = df.select_dtypes(exclude = ['object'])\n",
        "df = df.fillna(df.mean())\n",
        "x = df.drop('Price', axis = 1)\n",
        "y = df['Price']"
      ],
      "metadata": {
        "id": "OUAFhorTuUlH"
      },
      "execution_count": 23,
      "outputs": []
    },
    {
      "cell_type": "code",
      "source": [
        "predict = \"Price\"\n",
        "data = df[[\"Open\", \"High\", \"Low\", \n",
        "             \"Close\", \"Price\", \"AdjClose\"]]\n",
        "x = np.array(data.drop([predict], 1))\n",
        "y = np.array(data[predict])"
      ],
      "metadata": {
        "colab": {
          "base_uri": "https://localhost:8080/"
        },
        "id": "IpY6KC-pud7R",
        "outputId": "87b434ce-2a4c-4579-fd19-46f214f1dcdb"
      },
      "execution_count": 24,
      "outputs": [
        {
          "output_type": "stream",
          "name": "stderr",
          "text": [
            "<ipython-input-24-53558a5ee1b5>:4: FutureWarning: In a future version of pandas all arguments of DataFrame.drop except for the argument 'labels' will be keyword-only\n",
            "  x = np.array(data.drop([predict], 1))\n"
          ]
        }
      ]
    },
    {
      "cell_type": "code",
      "source": [
        "from sklearn.model_selection import train_test_split\n",
        "xtrain, xtest, ytrain, ytest = train_test_split(x, y, test_size=0.2)"
      ],
      "metadata": {
        "id": "yitdEkw4u-fi"
      },
      "execution_count": 25,
      "outputs": []
    },
    {
      "cell_type": "code",
      "source": [
        "from sklearn.tree import DecisionTreeRegressor\n",
        "model = DecisionTreeRegressor()\n",
        "model.fit(xtrain, ytrain)\n",
        "predictions = model.predict(xtest)\n",
        "predictions"
      ],
      "metadata": {
        "colab": {
          "base_uri": "https://localhost:8080/"
        },
        "id": "wWTgDGwPvBrk",
        "outputId": "8c6e9a7f-dd9c-44d9-a063-947c9f9957a8"
      },
      "execution_count": 26,
      "outputs": [
        {
          "output_type": "execute_result",
          "data": {
            "text/plain": [
              "array([ 3305400.,  1369400.,  3298600.,  1145200.,  1880900.,  8499800.,\n",
              "        4503200.,  3674200.,  3494400.,  5923300.,  3091900.,  5527900.,\n",
              "        3087100., 11432900., 11705500.,  2239000.,  1310200.,   433800.,\n",
              "        1880900.,  3766100.,  2254500.,  1311300.,  1079900., 15354700.,\n",
              "        2505100.,  6810900.,  5496900.,  3391600.,   966800.,   669300.,\n",
              "        8029300.,  3442500.,   662300.,   313400.,  9254500.,   597700.,\n",
              "        1274400.,  1098500.,  4901100.,  1098500., 14863300.,  7022600.,\n",
              "        1880900.,  5281700.,   406000.,  3412100.,  1483300.,   966800.,\n",
              "         881100., 11581900.,  1098500.,   911100.,  5801600.,  2659800.,\n",
              "        4366700.,  2085700.,  4116900.,   938600.,  7176700., 11432900.,\n",
              "        7026500.,  7820200.,  4434600.,  3603200., 17187100.,  1145200.,\n",
              "         652100.,  2021600.,   914100.,   790100.,   748400.,  2782700.,\n",
              "         430300., 23816500.,  2949400.,  1028600.,  2410500.,  3492400.,\n",
              "         671800.,   684300., 11895800.,  9431500.,  4617500., 13127000.,\n",
              "        5825200.,   757000.,  5982100.,  5210300., 14252400.,  3377900.,\n",
              "        4784400.,  1311600.,  8173400.,  5072900.,  1679000.,  5341100.,\n",
              "        5429800.,  3603200.,  3298600.,   672600.,   488200.,  3887600.,\n",
              "       19002200.,  1705500.,  5801600.,  1369400.,   741000.,  5126400.,\n",
              "        4686300.,   360800.,   966800.,   948200.,   634500.,  1150500.,\n",
              "        2261300.,   296000.,   406000.,   848100.,   601400., 10782300.,\n",
              "        1357400.,  3454500.,  6303100.,  8793100.,  5281700.,  2352500.,\n",
              "        5681100.,  4438900., 11517800.,  6996700.,  1847700.,  4467500.,\n",
              "        2085700., 11672600.,   661500.,  2949400., 20465600.,   684600.,\n",
              "        3245500.,  4806700.,  8603300.,  1714500., 11517800.,   638600.,\n",
              "        1552600.,  3279600.,  1192000.,  2925400.,  2959400.,  4617500.,\n",
              "        3763100.,  5390500., 14863300.,  7948800.,   975800.,   863000.,\n",
              "        2570700.,   601400.,  4689200.,  4045000.,  1047200.,  3180400.,\n",
              "        5658700.,  7066200.,  3909500.,   863000.,  4799400., 32371900.,\n",
              "       11705500.,  5385500.,   943500.,  4149200.,   764500.,  1808200.,\n",
              "         539800.,  9684800.,   322500.,  4334500.,  5368500.,  3298600.,\n",
              "         912400., 14867000.,  3448200.,  1605600., 12970700.,  6093400.,\n",
              "        6040400.,  4668300., 25682400.,  2219700.,  5959700.,  4571700.,\n",
              "        1029700., 16124200.,  7129500.,  2728600.,   649600.,  1163900.,\n",
              "         869000.,  4302200.,   911100., 22416900.,  2889400.,  8924700.,\n",
              "        9678900.,   366200.,  1166000.,  6158400.,  8216900.,   488200.,\n",
              "        8380000.,  3715200.,  6508800.,  2505100.,  3733800., 11903800.,\n",
              "        6158000.,   607200.,  2021600.,  1079900.,   709000.,  3817900.,\n",
              "         948200.,  9228600.,   417100.,  3909500.,  3377900.,  5434300.,\n",
              "         674000.,  2919400.,  5763200.,   612200.,   830800.,   434600.,\n",
              "        1952400.,  1920200.,  9716200.,   966800.,  5999900.,  5104300.,\n",
              "        3587200.,  2227200.,  6262900.,  1009400.,   895700.,   712200.,\n",
              "        7295600.,  5368500.,   923500.,   912400.,  5281700.,  5779100.,\n",
              "        1263300.,  1271100.,  7769600.,  3587200.,  1274400.,  7865400.,\n",
              "        2570700.,   459200.,  4776400.,   838900.,  1234200.,   726000.,\n",
              "        1529700.,   916400.,  5763200.,  7948800.,  2728600.,   267800.,\n",
              "        3336900.,  1150000.,  5361100.,   673300.,  1088100.,  3715200.,\n",
              "        6188400.,  1483300.,  4887100.,  2324000.,  5959700.,  3298600.,\n",
              "        1808200.,  3733800.,   757000.,   908700.,  3138200.,  1986000.,\n",
              "        3734000.,  1579500.,   726000.,   245200.,  3122000.,  2568500.,\n",
              "        2985100.,  3773400.,  1118700.,  1149000.,  3087100.,  5225200.,\n",
              "        5390500.,  4334500.,  3228400.,   996000.,  3305400.,  4115400.,\n",
              "        1400500.,  4925600.,  1044500.,  9510900.,  4336100.,  1659100.,\n",
              "        7371400.,   447900.,  7394000.,  1564200.,  1200300.,  1788500.,\n",
              "        7478900.,  5680400.,  1659500.,  4703400., 10549400.,  2943400.,\n",
              "         774900.,  3447400.,  1033900., 14912200.,  2915600.,  3091900.,\n",
              "        1659500.,  2949400.,  1220400.,  2453600.,  3353200.,  3122000.,\n",
              "        2382900.,  3790200.,  1825300.])"
            ]
          },
          "metadata": {},
          "execution_count": 26
        }
      ]
    },
    {
      "cell_type": "code",
      "source": [
        "from sklearn.metrics import mean_absolute_error\n",
        "model.score(xtest, predictions)"
      ],
      "metadata": {
        "colab": {
          "base_uri": "https://localhost:8080/"
        },
        "id": "oAnLD21WvEeO",
        "outputId": "3bdcea8e-714e-48a4-b59f-c4ca3e6f63b9"
      },
      "execution_count": 27,
      "outputs": [
        {
          "output_type": "execute_result",
          "data": {
            "text/plain": [
              "1.0"
            ]
          },
          "metadata": {},
          "execution_count": 27
        }
      ]
    },
    {
      "cell_type": "code",
      "source": [
        "#random forest\n",
        "df.dtypes\n",
        "for x in df:\n",
        "    if(df[x].dtypes == \"int64\"):\n",
        "        df[x] = df[x].astype(float)\n",
        "        print(df[x].dtypes)"
      ],
      "metadata": {
        "id": "yp-pnjQZvH02"
      },
      "execution_count": 28,
      "outputs": []
    },
    {
      "cell_type": "code",
      "source": [
        "from sklearn.ensemble import RandomForestRegressor\n",
        "regressor = RandomForestRegressor(n_estimators = 1000, random_state = 35)\n",
        "regressor.fit(xtrain, ytrain)"
      ],
      "metadata": {
        "colab": {
          "base_uri": "https://localhost:8080/"
        },
        "id": "qfWViIhXvlso",
        "outputId": "659f63d2-bed4-49ff-f7f2-85e62b286f9a"
      },
      "execution_count": 29,
      "outputs": [
        {
          "output_type": "execute_result",
          "data": {
            "text/plain": [
              "RandomForestRegressor(n_estimators=1000, random_state=35)"
            ]
          },
          "metadata": {},
          "execution_count": 29
        }
      ]
    },
    {
      "cell_type": "code",
      "source": [
        "ypred = regressor.predict(xtest)\n",
        "ypred"
      ],
      "metadata": {
        "colab": {
          "base_uri": "https://localhost:8080/"
        },
        "id": "_WHOClGLvz5Q",
        "outputId": "814954a2-48b8-4f16-f229-f470e1235a66"
      },
      "execution_count": 30,
      "outputs": [
        {
          "output_type": "execute_result",
          "data": {
            "text/plain": [
              "array([ 3020888.6,  1150594.5,  5352631.3,  1345635.9,  2590248. ,\n",
              "        8041562.9,  4474511.2,  4052474.9,  3274493.8,  6473925.4,\n",
              "        4883478.5,  3669325.2,  3131135.6,  5095582.9,  6593229.5,\n",
              "        3309271.2,  1331379.1,   706823.1,  2279136.6,  5116830.5,\n",
              "        4634769.7,  1598379. ,  1067646.8, 12118110.7,  3323595.2,\n",
              "        5178293.5,  7212156.5,  4987968.8,  1428247.3,   798238.3,\n",
              "        6795851.8,  3972739. ,  1305021.4,   402184.7,  9700525.2,\n",
              "         704782.9,  1331719.6,  1442222.8, 10382855.2,  1019040.4,\n",
              "       10282632.2,  7337381.6,  2802166.2,  6809398. ,   727969.4,\n",
              "        5675728.5,  1837948.5,  1465140.8,  1790995.4,  9223412.8,\n",
              "         994547.3,  1136806.6,  5133783.1,  2199428.8,  5562195.2,\n",
              "        2132810.5,  6748862.9,   967926.3,  4715967.6,  8087403.4,\n",
              "        8713897.3,  5421310. ,  5322985.5,  4472299.2,  6558878.1,\n",
              "        1042532.4,   854391.2,  2511505.5,  1171958. ,  1066344.9,\n",
              "        1012464.4,  3965509.7,  1566385.5, 15055391.4,  4238723.8,\n",
              "        1339441.6,  2617997.2,  4109414. ,   884614.6,   786008.5,\n",
              "        8327116.1,  7553722. ,  4785395.6, 11305186.3,  7644390.9,\n",
              "        1033827.3,  5149511. ,  4923956.6, 12646355.5,  4247569.9,\n",
              "        4170408.5,  1318047.8,  8065806.7,  4613845.4,  2152988.7,\n",
              "        4707057.6,  3500961.8,  4327176.1,  5642181.1,   894023.3,\n",
              "         857853.9,  8250771.4, 13552805.3,  1861194.4,  5411892.2,\n",
              "        1160216.2,  1085715.1,  7207895. ,  7534496. ,   383116.3,\n",
              "        1389791.1,   971835.1,   773141.9,  1276532.4,  1317575.5,\n",
              "         473633.8,   829461.4,   869570.6,  1416988.6,  8147838.5,\n",
              "        1318940.1,  4040747.9,  4991090.2,  9000224.9,  7001853.9,\n",
              "        3306287.6,  6193246. ,  7258755.6,  1999517.6,  6944300.9,\n",
              "        1486146.3,  7781610.4,  2108301. ,  8770147. ,  1148125.1,\n",
              "        3728888.5, 11377939.1,  1032896.7,  3865577.2,  9408684.4,\n",
              "        9028652.1,  1116320.2,  2676700.4,   790181.6,  1746781.3,\n",
              "        2365737.7,   915229.3,  6377447.2,  6853948.9,  4463907.9,\n",
              "        3530537.4,  4116732.5, 11450375.4,  7548181.2,  1063098.8,\n",
              "        1049976.3,  2775234.9,  1433744.4,  4289329.1,  4101554.7,\n",
              "        1422198.2,  4087561.1,  6823937.9,  8681447.7,  3935612.5,\n",
              "         853717.7,  7062486.3, 14932384.5,  6650465.6,  7799206.9,\n",
              "        1047847.2,  4915781.8,  1015281.7,  1439824. ,   642508.7,\n",
              "        5380354.4,   846622. ,  4925616.1,  7431800.9,  5914447.9,\n",
              "        1000253.3,  9463211.4,  3556280.7,  1114261.3, 11360778.7,\n",
              "        8080941.7,  4879414.1,  3713274.3, 14626789.5,  2147334.2,\n",
              "        5089747.3,  4056352.7,  1036484.7, 13106408.2, 11551315.6,\n",
              "        4281712.9,   918367.4,  2154087.6,   774509.4,  4879166.2,\n",
              "         883860.6, 17498467.8,  2212340.2, 10087467.8, 10590651.9,\n",
              "         604360.9,   823661.3,  3327467.1,  9050697.1,  1212253. ,\n",
              "        6388032.4,  4356159.8,  9339141.9,  4363577.8,  3363362.2,\n",
              "        9283784.7,  4341718.7,  1060410. ,  2854488.7,  1151677.1,\n",
              "         910809.8,  4450816.3,  1118992.4,  8959310.2,   392666.4,\n",
              "        4680020.4,  3826920.2,  5288249.2,   877673. ,  3165343. ,\n",
              "        6247878.3,  1052618.3,   957458. ,   460289.8,  2807367.8,\n",
              "        1900438.6, 10515724. ,  1631394.8,  6680548.1,  7026053.5,\n",
              "        3166581. ,  2368447.3,  4669089.4,  1274173.3,  1359564.4,\n",
              "         839883.1,  7511190.4,  4869443.4,  1182970. ,   917719.7,\n",
              "        5408036.7,  5852350.2,   993439.5,  1989786.6,  9318213. ,\n",
              "        4005750.1,  1476933.4,  4221196.4,  3035376.2,   699419.1,\n",
              "        6850583.9,  1037533.7,  2777137. ,   862050.4,  1512179.5,\n",
              "         950764.7,  5993847.4,  7269340.4,  4337819.5,   415105.7,\n",
              "        2187249.3,  1044689.2,  7064211.7,   997782.3,   959153.8,\n",
              "        5782156.5,  6529635.4,  1567672.6,  5307579.5,  1267793.5,\n",
              "        4627541.4,  4441366.7,  1428851.9,  3363895.4,   994071.8,\n",
              "        1051195.1,  4948675.9,  1658627.3,  4394750.2,  1683416.8,\n",
              "         794384.9,   287401.4,  2443314.7,  3693862.2,  3210466.4,\n",
              "        3485226.3,   987670.3,  1363128.6,  2819900.2,  4953226.2,\n",
              "        4903097.9,  5169289.8,  4728530.9,  1008944. ,  3056191.6,\n",
              "        4141472.4,  1344038.9,  3709446.3,  1292460.1, 11961153.6,\n",
              "        4691454.7,  2630884. ,  5610740.6,   617431.3, 11446487.8,\n",
              "        1720243. ,  1901766.1,  1313093.3,  4881901.8,  1546901.8,\n",
              "        2158497.1,  3346989.9,  7000061.9,  3983937. ,   831286.4,\n",
              "        5440112.3,  1130271.4, 10235185.4,  3985645.8,  5392287.6,\n",
              "        2204707.2,  4679312.8,  1378777.3,  3138166. ,  3314582.3,\n",
              "        2398260.3,  3040933.9,  3295316.6,  1666109.5])"
            ]
          },
          "metadata": {},
          "execution_count": 30
        }
      ]
    },
    {
      "cell_type": "code",
      "source": [
        "df = pd.DataFrame({'Actual': ytest, 'Predicted': ypred})\n",
        "df"
      ],
      "metadata": {
        "colab": {
          "base_uri": "https://localhost:8080/",
          "height": 424
        },
        "id": "W6_8pRsKv9cb",
        "outputId": "66f40a03-b396-4ceb-9932-3f4cd3ad71b1"
      },
      "execution_count": 31,
      "outputs": [
        {
          "output_type": "execute_result",
          "data": {
            "text/plain": [
              "        Actual  Predicted\n",
              "0    4411200.0  3020888.6\n",
              "1    2609300.0  1150594.5\n",
              "2    6814000.0  5352631.3\n",
              "3    1528200.0  1345635.9\n",
              "4    4571300.0  2590248.0\n",
              "..         ...        ...\n",
              "334  3022000.0  3314582.3\n",
              "335  1139800.0  2398260.3\n",
              "336  2781000.0  3040933.9\n",
              "337  3650800.0  3295316.6\n",
              "338  2195800.0  1666109.5\n",
              "\n",
              "[339 rows x 2 columns]"
            ],
            "text/html": [
              "\n",
              "  <div id=\"df-9c4e9354-178c-41c5-8d74-1cd488b4a773\">\n",
              "    <div class=\"colab-df-container\">\n",
              "      <div>\n",
              "<style scoped>\n",
              "    .dataframe tbody tr th:only-of-type {\n",
              "        vertical-align: middle;\n",
              "    }\n",
              "\n",
              "    .dataframe tbody tr th {\n",
              "        vertical-align: top;\n",
              "    }\n",
              "\n",
              "    .dataframe thead th {\n",
              "        text-align: right;\n",
              "    }\n",
              "</style>\n",
              "<table border=\"1\" class=\"dataframe\">\n",
              "  <thead>\n",
              "    <tr style=\"text-align: right;\">\n",
              "      <th></th>\n",
              "      <th>Actual</th>\n",
              "      <th>Predicted</th>\n",
              "    </tr>\n",
              "  </thead>\n",
              "  <tbody>\n",
              "    <tr>\n",
              "      <th>0</th>\n",
              "      <td>4411200.0</td>\n",
              "      <td>3020888.6</td>\n",
              "    </tr>\n",
              "    <tr>\n",
              "      <th>1</th>\n",
              "      <td>2609300.0</td>\n",
              "      <td>1150594.5</td>\n",
              "    </tr>\n",
              "    <tr>\n",
              "      <th>2</th>\n",
              "      <td>6814000.0</td>\n",
              "      <td>5352631.3</td>\n",
              "    </tr>\n",
              "    <tr>\n",
              "      <th>3</th>\n",
              "      <td>1528200.0</td>\n",
              "      <td>1345635.9</td>\n",
              "    </tr>\n",
              "    <tr>\n",
              "      <th>4</th>\n",
              "      <td>4571300.0</td>\n",
              "      <td>2590248.0</td>\n",
              "    </tr>\n",
              "    <tr>\n",
              "      <th>...</th>\n",
              "      <td>...</td>\n",
              "      <td>...</td>\n",
              "    </tr>\n",
              "    <tr>\n",
              "      <th>334</th>\n",
              "      <td>3022000.0</td>\n",
              "      <td>3314582.3</td>\n",
              "    </tr>\n",
              "    <tr>\n",
              "      <th>335</th>\n",
              "      <td>1139800.0</td>\n",
              "      <td>2398260.3</td>\n",
              "    </tr>\n",
              "    <tr>\n",
              "      <th>336</th>\n",
              "      <td>2781000.0</td>\n",
              "      <td>3040933.9</td>\n",
              "    </tr>\n",
              "    <tr>\n",
              "      <th>337</th>\n",
              "      <td>3650800.0</td>\n",
              "      <td>3295316.6</td>\n",
              "    </tr>\n",
              "    <tr>\n",
              "      <th>338</th>\n",
              "      <td>2195800.0</td>\n",
              "      <td>1666109.5</td>\n",
              "    </tr>\n",
              "  </tbody>\n",
              "</table>\n",
              "<p>339 rows × 2 columns</p>\n",
              "</div>\n",
              "      <button class=\"colab-df-convert\" onclick=\"convertToInteractive('df-9c4e9354-178c-41c5-8d74-1cd488b4a773')\"\n",
              "              title=\"Convert this dataframe to an interactive table.\"\n",
              "              style=\"display:none;\">\n",
              "        \n",
              "  <svg xmlns=\"http://www.w3.org/2000/svg\" height=\"24px\"viewBox=\"0 0 24 24\"\n",
              "       width=\"24px\">\n",
              "    <path d=\"M0 0h24v24H0V0z\" fill=\"none\"/>\n",
              "    <path d=\"M18.56 5.44l.94 2.06.94-2.06 2.06-.94-2.06-.94-.94-2.06-.94 2.06-2.06.94zm-11 1L8.5 8.5l.94-2.06 2.06-.94-2.06-.94L8.5 2.5l-.94 2.06-2.06.94zm10 10l.94 2.06.94-2.06 2.06-.94-2.06-.94-.94-2.06-.94 2.06-2.06.94z\"/><path d=\"M17.41 7.96l-1.37-1.37c-.4-.4-.92-.59-1.43-.59-.52 0-1.04.2-1.43.59L10.3 9.45l-7.72 7.72c-.78.78-.78 2.05 0 2.83L4 21.41c.39.39.9.59 1.41.59.51 0 1.02-.2 1.41-.59l7.78-7.78 2.81-2.81c.8-.78.8-2.07 0-2.86zM5.41 20L4 18.59l7.72-7.72 1.47 1.35L5.41 20z\"/>\n",
              "  </svg>\n",
              "      </button>\n",
              "      \n",
              "  <style>\n",
              "    .colab-df-container {\n",
              "      display:flex;\n",
              "      flex-wrap:wrap;\n",
              "      gap: 12px;\n",
              "    }\n",
              "\n",
              "    .colab-df-convert {\n",
              "      background-color: #E8F0FE;\n",
              "      border: none;\n",
              "      border-radius: 50%;\n",
              "      cursor: pointer;\n",
              "      display: none;\n",
              "      fill: #1967D2;\n",
              "      height: 32px;\n",
              "      padding: 0 0 0 0;\n",
              "      width: 32px;\n",
              "    }\n",
              "\n",
              "    .colab-df-convert:hover {\n",
              "      background-color: #E2EBFA;\n",
              "      box-shadow: 0px 1px 2px rgba(60, 64, 67, 0.3), 0px 1px 3px 1px rgba(60, 64, 67, 0.15);\n",
              "      fill: #174EA6;\n",
              "    }\n",
              "\n",
              "    [theme=dark] .colab-df-convert {\n",
              "      background-color: #3B4455;\n",
              "      fill: #D2E3FC;\n",
              "    }\n",
              "\n",
              "    [theme=dark] .colab-df-convert:hover {\n",
              "      background-color: #434B5C;\n",
              "      box-shadow: 0px 1px 3px 1px rgba(0, 0, 0, 0.15);\n",
              "      filter: drop-shadow(0px 1px 2px rgba(0, 0, 0, 0.3));\n",
              "      fill: #FFFFFF;\n",
              "    }\n",
              "  </style>\n",
              "\n",
              "      <script>\n",
              "        const buttonEl =\n",
              "          document.querySelector('#df-9c4e9354-178c-41c5-8d74-1cd488b4a773 button.colab-df-convert');\n",
              "        buttonEl.style.display =\n",
              "          google.colab.kernel.accessAllowed ? 'block' : 'none';\n",
              "\n",
              "        async function convertToInteractive(key) {\n",
              "          const element = document.querySelector('#df-9c4e9354-178c-41c5-8d74-1cd488b4a773');\n",
              "          const dataTable =\n",
              "            await google.colab.kernel.invokeFunction('convertToInteractive',\n",
              "                                                     [key], {});\n",
              "          if (!dataTable) return;\n",
              "\n",
              "          const docLinkHtml = 'Like what you see? Visit the ' +\n",
              "            '<a target=\"_blank\" href=https://colab.research.google.com/notebooks/data_table.ipynb>data table notebook</a>'\n",
              "            + ' to learn more about interactive tables.';\n",
              "          element.innerHTML = '';\n",
              "          dataTable['output_type'] = 'display_data';\n",
              "          await google.colab.output.renderOutput(dataTable, element);\n",
              "          const docLink = document.createElement('div');\n",
              "          docLink.innerHTML = docLinkHtml;\n",
              "          element.appendChild(docLink);\n",
              "        }\n",
              "      </script>\n",
              "    </div>\n",
              "  </div>\n",
              "  "
            ]
          },
          "metadata": {},
          "execution_count": 31
        }
      ]
    },
    {
      "cell_type": "code",
      "source": [
        "from sklearn import metrics\n",
        "print('Mean Absolute Error:', metrics.mean_absolute_error(ytest, ypred))\n",
        "print('Mean squared Error:', metrics.mean_squared_error(ytest, ypred))\n",
        "print('Root Mean Squared Error', np.sqrt(metrics.mean_squared_error(ytest, ypred)))"
      ],
      "metadata": {
        "colab": {
          "base_uri": "https://localhost:8080/"
        },
        "id": "uahH-sxdwA_P",
        "outputId": "282b8c66-bdd4-4e6e-bcf5-3711556122a6"
      },
      "execution_count": 32,
      "outputs": [
        {
          "output_type": "stream",
          "name": "stdout",
          "text": [
            "Mean Absolute Error: 1539016.4740412978\n",
            "Mean squared Error: 7646180926070.974\n",
            "Root Mean Squared Error 2765172.856454181\n"
          ]
        }
      ]
    },
    {
      "cell_type": "code",
      "source": [
        "# Calculate the absolute errors\n",
        "errors = abs(ypred - ytest)\n",
        "# Print out the mean absolute error(mae)\n",
        "print('Mean Absolute Error:', round(np.mean(errors), 2), 'degrees')\n",
        "# Calculate Mean absolute Percentage Error\n",
        "mape = 100 * (errors / ytest)\n",
        "# Calculate and display Accuracy\n",
        "accuracy = 100 - np.mean(mape)\n",
        "print('Accuracy:', round(accuracy, 2), '%')"
      ],
      "metadata": {
        "colab": {
          "base_uri": "https://localhost:8080/"
        },
        "id": "kHQhQF56wGTD",
        "outputId": "3117dc32-79d4-4a4e-f77a-278bd257dff2"
      },
      "execution_count": 33,
      "outputs": [
        {
          "output_type": "stream",
          "name": "stdout",
          "text": [
            "Mean Absolute Error: 1539016.47 degrees\n",
            "Accuracy: 60.12 %\n"
          ]
        }
      ]
    },
    {
      "cell_type": "code",
      "source": [],
      "metadata": {
        "id": "Ka4yCTnGwJyX"
      },
      "execution_count": null,
      "outputs": []
    }
  ]
}